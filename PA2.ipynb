{
 "cells": [
  {
   "cell_type": "markdown",
   "id": "91969d93",
   "metadata": {},
   "source": [
    "# Programming Assignment 2 on Data types\n",
    "## Author: Juan Ballas Marchant\n",
    "#### Version1\n",
    "#### Fall2023"
   ]
  },
  {
   "cell_type": "markdown",
   "id": "a8018f2e",
   "metadata": {},
   "source": [
    "## Task 1: Personal Information"
   ]
  },
  {
   "cell_type": "code",
   "execution_count": 16,
   "id": "a67d93d0",
   "metadata": {},
   "outputs": [],
   "source": [
    "name=\"Juan\"\n",
    "age= 22\n",
    "height= 191\n",
    "color=\"Yellow\""
   ]
  },
  {
   "cell_type": "code",
   "execution_count": 17,
   "id": "a056dc8d",
   "metadata": {},
   "outputs": [
    {
     "name": "stdout",
     "output_type": "stream",
     "text": [
      "Hello my name is Juan, I am 22 years old, my height is 191, and my favorite color is Yellow.\n"
     ]
    }
   ],
   "source": [
    "print(f\"Hello my name is {name}, I am {age} years old, my height is {height}, and my favorite color is {color}.\")"
   ]
  },
  {
   "cell_type": "markdown",
   "id": "00c9f334",
   "metadata": {},
   "source": [
    "## Task 2: Temperature Conversion"
   ]
  },
  {
   "cell_type": "code",
   "execution_count": 21,
   "id": "b638e451",
   "metadata": {},
   "outputs": [],
   "source": [
    "celcius_temp=25\n",
    "fahrenheit_temp= (celcius_temp*9/5)+32"
   ]
  },
  {
   "cell_type": "code",
   "execution_count": 22,
   "id": "5912edd2",
   "metadata": {},
   "outputs": [
    {
     "name": "stdout",
     "output_type": "stream",
     "text": [
      "77.0\n"
     ]
    }
   ],
   "source": [
    "print(fahrenheit_temp)"
   ]
  },
  {
   "cell_type": "code",
   "execution_count": 23,
   "id": "51527b30",
   "metadata": {},
   "outputs": [
    {
     "name": "stdout",
     "output_type": "stream",
     "text": [
      "The temperature is 25C, which is 77.0F.\n"
     ]
    }
   ],
   "source": [
    "print(f\"The temperature is {celcius_temp}C, which is {fahrenheit_temp}F.\")"
   ]
  },
  {
   "cell_type": "markdown",
   "id": "626961b9",
   "metadata": {},
   "source": [
    "## Task 3: Simple Calculator"
   ]
  },
  {
   "cell_type": "code",
   "execution_count": 24,
   "id": "c8a3b9fa",
   "metadata": {},
   "outputs": [],
   "source": [
    "num1=22\n",
    "num2=14"
   ]
  },
  {
   "cell_type": "code",
   "execution_count": 28,
   "id": "f961a933",
   "metadata": {},
   "outputs": [
    {
     "name": "stdout",
     "output_type": "stream",
     "text": [
      "36\n",
      "8\n",
      "308\n",
      "1.5714285714285714\n"
     ]
    }
   ],
   "source": [
    "print(num1+num2)\n",
    "print(num1-num2)\n",
    "print(num1*num2)\n",
    "print(num1/num2)"
   ]
  },
  {
   "cell_type": "markdown",
   "id": "624c6629",
   "metadata": {},
   "source": [
    "## Task 4: String Manipulation"
   ]
  },
  {
   "cell_type": "code",
   "execution_count": 29,
   "id": "9f9466d7",
   "metadata": {},
   "outputs": [],
   "source": [
    "quote= 'Just Do It'"
   ]
  },
  {
   "cell_type": "code",
   "execution_count": 32,
   "id": "542684f6",
   "metadata": {},
   "outputs": [
    {
     "name": "stdout",
     "output_type": "stream",
     "text": [
      "Just Do It\n"
     ]
    },
    {
     "data": {
      "text/plain": [
       "10"
      ]
     },
     "execution_count": 32,
     "metadata": {},
     "output_type": "execute_result"
    }
   ],
   "source": [
    "print(quote)\n",
    "len(quote)"
   ]
  },
  {
   "cell_type": "code",
   "execution_count": 35,
   "id": "8ff18344",
   "metadata": {},
   "outputs": [
    {
     "name": "stdout",
     "output_type": "stream",
     "text": [
      "JUST DO IT\n",
      "just do it\n"
     ]
    }
   ],
   "source": [
    "print(quote.upper())\n",
    "print(quote.lower())"
   ]
  },
  {
   "cell_type": "code",
   "execution_count": 42,
   "id": "9292508e",
   "metadata": {},
   "outputs": [
    {
     "data": {
      "text/plain": [
       "'Just Do It'"
      ]
     },
     "execution_count": 42,
     "metadata": {},
     "output_type": "execute_result"
    }
   ],
   "source": [
    "quote.strip()"
   ]
  },
  {
   "cell_type": "code",
   "execution_count": 43,
   "id": "0a038a18",
   "metadata": {},
   "outputs": [
    {
     "name": "stdout",
     "output_type": "stream",
     "text": [
      "['Just', 'Do', 'It']\n"
     ]
    }
   ],
   "source": [
    "quote.split(sep=\" \")\n",
    "print(quote.split())"
   ]
  },
  {
   "cell_type": "markdown",
   "id": "c96a0f75",
   "metadata": {},
   "source": [
    "## Task 5: User Input and Integer Operations"
   ]
  },
  {
   "cell_type": "code",
   "execution_count": 49,
   "id": "e9f0e758",
   "metadata": {},
   "outputs": [
    {
     "name": "stdout",
     "output_type": "stream",
     "text": [
      "Enter first number: 80\n",
      "Enter second number: 45\n",
      "Sum of the two numbers: 125\n",
      "Difference of the two numbers: 35\n",
      "Multiplication of the two numbers: 3600\n",
      "Division of the two numbers: 1.7777777777777777\n"
     ]
    }
   ],
   "source": [
    "number1=int(input(\"Enter first number: \"))\n",
    "number2=int(input(\"Enter second number: \"))\n",
    "print(f\"Sum of the two numbers: {number1+number2}\")\n",
    "print(f\"Difference of the two numbers: {number1-number2}\")\n",
    "print(f\"Multiplication of the two numbers: {number1*number2}\")\n",
    "print(f\"Division of the two numbers: {number1/number2}\")"
   ]
  }
 ],
 "metadata": {
  "kernelspec": {
   "display_name": "Python 3 (ipykernel)",
   "language": "python",
   "name": "python3"
  },
  "language_info": {
   "codemirror_mode": {
    "name": "ipython",
    "version": 3
   },
   "file_extension": ".py",
   "mimetype": "text/x-python",
   "name": "python",
   "nbconvert_exporter": "python",
   "pygments_lexer": "ipython3",
   "version": "3.11.4"
  }
 },
 "nbformat": 4,
 "nbformat_minor": 5
}
